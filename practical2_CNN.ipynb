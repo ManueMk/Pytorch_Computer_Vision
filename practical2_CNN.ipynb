{
  "cells": [
    {
      "cell_type": "markdown",
      "metadata": {
        "id": "LwP56k5y4EUk"
      },
      "source": [
        "# PyTorch Computer Vision Tutorial\n",
        "\n",
        "\n",
        "This notebook covers:\n",
        "- Loading and visualizing the MNIST dataset\n",
        "- Training a simple Multi-Layer Perceptron (MLP)\n",
        "- Training a Convolutional Neural Network (CNN)\n",
        "- A mini data-challenge on FashionMNIST\n",
        "\n",
        "## 1. Loading MNIST Dataset\n",
        "\n",
        "### MNIST Dataset  \n",
        "\n",
        "The **MNIST (Modified National Institute of Standards and Technology)** dataset is a collection of **70,000 grayscale images** of handwritten digits from **0 to 9**, commonly used for training and benchmarking machine learning models in image classification.  \n",
        "\n",
        "#### Key Features:  \n",
        "- **60,000 training images** and **10,000 test images**  \n",
        "- Each image is **28×28 pixels** in size  \n",
        "- Pixel values range from **0 (black) to 255 (white)**  \n",
        "- Labels correspond to the digit (0–9) present in the image\n",
        "\n",
        "\n",
        "### To get access to GPUs: [![Open In Colab](https://colab.research.google.com/assets/colab-badge.svg)](https://colab.research.google.com/github/rmenegaux/Intro-to-Neural-Nets-AIMS-2025/blob/main/practical2_CNN.ipynb)\n"
      ]
    },
    {
      "cell_type": "code",
      "execution_count": null,
      "metadata": {
        "colab": {
          "base_uri": "https://localhost:8080/",
          "height": 398
        },
        "id": "J9isBfRG4EUm",
        "outputId": "cd9c960c-2613-4b20-fb3f-181b20991893"
      },
      "outputs": [
        {
          "name": "stderr",
          "output_type": "stream",
          "text": [
            "100%|██████████| 9.91M/9.91M [00:00<00:00, 62.2MB/s]\n",
            "100%|██████████| 28.9k/28.9k [00:00<00:00, 14.1MB/s]\n",
            "100%|██████████| 1.65M/1.65M [00:00<00:00, 63.2MB/s]\n",
            "100%|██████████| 4.54k/4.54k [00:00<00:00, 8.25MB/s]\n"
          ]
        },
        {
          "data": {
            "image/png": "[encoded data removed]",
            "text/plain": [
              "<Figure size 1200x400 with 16 Axes>"
            ]
          },
          "metadata": {},
          "output_type": "display_data"
        }
      ],
      "source": [
        "import torch\n",
        "import torchvision\n",
        "import torchvision.transforms as transforms\n",
        "import matplotlib.pyplot as plt\n",
        "\n",
        "# Define a transform to normalize the dataset and convert it to tensors\n",
        "transform = transforms.Compose([transforms.ToTensor()])\n",
        "\n",
        "# Load the MNIST training dataset\n",
        "train_dataset = torchvision.datasets.MNIST(root='./data', train=True, download=True, transform=transform)\n",
        "\n",
        "# Create a DataLoader for easy batch processing\n",
        "train_loader = torch.utils.data.DataLoader(train_dataset, batch_size=16, shuffle=True)\n",
        "\n",
        "# Load the test dataset\n",
        "test_dataset = torchvision.datasets.MNIST(root=\"./data\", train=False, transform=transform, download=True)\n",
        "\n",
        "# Get a batch of images and labels\n",
        "images, labels = next(iter(train_loader))\n",
        "\n",
        "# Plot some sample images\n",
        "fig, axes = plt.subplots(2, 8, figsize=(12, 4))\n",
        "for i, ax in enumerate(axes.flat):\n",
        "    ax.imshow(images[i].squeeze(), cmap='gray')\n",
        "    ax.set_title(f'Label: {labels[i].item()}')\n",
        "    ax.axis('off')\n",
        "\n",
        "plt.show()"
      ]
    },
    {
      "cell_type": "markdown",
      "metadata": {
        "id": "7RYf_sDG4EUn"
      },
      "source": [
        "### Manipulating data in PyTorch  \n",
        "\n",
        "In the code above, we used a `DataLoader` to load batches of images from the MNIST dataset efficiently.\n",
        "```python\n",
        "train_loader = torch.utils.data.DataLoader(train_dataset, batch_size=16, shuffle=True)\n",
        "```\n",
        "\n",
        "A [`DataLoader`](https://pytorch.org/docs/stable/data.html#torch.utils.data.DataLoader) is a PyTorch utility that helps **manage large datasets** by handling:  \n",
        "- **Batching**: Instead of loading one sample at a time, it loads multiple samples together, improving training efficiency.  \n",
        "- **Shuffling**: It randomly shuffles the dataset at each epoch, helping the model generalize better.  \n",
        "- **Parallel Loading**: It allows multiple workers to load data in parallel, speeding up training.\n",
        "\n",
        "In the example above, one _iteration_ from the dataloader returns a batch of 16 images and their labels"
      ]
    },
    {
      "cell_type": "markdown",
      "metadata": {
        "id": "80MvFGsZ4EUn"
      },
      "source": [
        "I.1. First try with an MLP\n",
        "---\n",
        "\n",
        "As a baseline model, we first implement a fully-connected network.\n",
        "### **1. Define the MLP Network**  \n",
        "1. **Define the Model**  \n",
        "   - We flatten the **28×28** images into **1D vectors**.  \n",
        "   - The network has **two hidden layers** with **ReLU activations**.  \n",
        "   - The final layer outputs **logits for 10 classes**."
      ]
    },
    {
      "cell_type": "code",
      "execution_count": null,
      "metadata": {
        "colab": {
          "base_uri": "https://localhost:8080/"
        },
        "id": "5_Dqrts54EUn",
        "outputId": "2c62e729-e305-49e3-e506-18806e20c9a3"
      },
      "outputs": [
        {
          "name": "stdout",
          "output_type": "stream",
          "text": [
            "MLP(\n",
            "  (fc1): Linear(in_features=784, out_features=428, bias=True)\n",
            "  (relu1): ReLU()\n",
            "  (fc2): Linear(in_features=428, out_features=240, bias=True)\n",
            "  (relu2): ReLU()\n",
            "  (fc3): Linear(in_features=240, out_features=10, bias=True)\n",
            ")\n"
          ]
        }
      ],
      "source": [
        "import torch\n",
        "import torch.nn as nn\n",
        "\n",
        "# Define the MLP model\n",
        "class MLP(nn.Module):\n",
        "    def __init__(self):\n",
        "        super(MLP, self).__init__()\n",
        "        # TODO: fill in the dimensions of the linear layers, and the flattening\n",
        "        self.fc1 = nn.Linear(784, 428)  # First hidden layer\n",
        "        self.relu1 = nn.ReLU()\n",
        "        self.fc2 = nn.Linear(428, 240)  # Second hidden layer\n",
        "        self.relu2 = nn.ReLU()\n",
        "        self.fc3 = nn.Linear(240, 10)  # Output layer\n",
        "\n",
        "    def forward(self, x):\n",
        "        x = x.flatten(1)  # Flatten 28x28 images into vectors\n",
        "        x = self.relu1(self.fc1(x))\n",
        "        x = self.relu2(self.fc2(x))\n",
        "        x = self.fc3(x)  # No activation (logits output)\n",
        "        return x\n",
        "\n",
        "# Initialize model, loss function, and optimizer\n",
        "device = torch.device(\"cuda\" if torch.cuda.is_available() else \"cpu\")\n",
        "mlp_model = MLP().to(device)\n",
        "\n",
        "print(mlp_model)"
      ]
    },
    {
      "cell_type": "markdown",
      "metadata": {
        "id": "0VUyXcCj4EUn"
      },
      "source": [
        "### 2. Training the network\n",
        "- 2.a. Define the training **optimizer** and the **loss function**\n",
        "\n",
        "- 2.b. Implement the **training loop**\n",
        "   - Each batch goes through a **forward pass**.  \n",
        "   - We compute the **Cross-Entropy Loss**.  \n",
        "   - Use **backpropagation** to compute gradients.  \n",
        "   - Update model parameters using **Adam optimizer**."
      ]
    },
    {
      "cell_type": "code",
      "execution_count": null,
      "metadata": {
        "id": "9__yfS52L3VM"
      },
      "outputs": [],
      "source": [
        "train_loader = torch.utils.data.DataLoader(train_dataset, batch_size=16, shuffle=True)\n",
        "test_loader = torch.utils.data.DataLoader(test_dataset, batch_size=16, shuffle=True)"
      ]
    },
    {
      "cell_type": "code",
      "execution_count": null,
      "metadata": {
        "colab": {
          "base_uri": "https://localhost:8080/"
        },
        "id": "HeGPQqad4EUo",
        "outputId": "0fc7bd72-8f39-45fc-8120-6ed2dea4a9f3"
      },
      "outputs": [
        {
          "name": "stdout",
          "output_type": "stream",
          "text": [
            "Epoch 1, Loss: 0.2038\n",
            "Epoch 2, Loss: 0.0878\n",
            "Epoch 3, Loss: 0.0607\n",
            "Epoch 4, Loss: 0.0477\n",
            "Epoch 5, Loss: 0.0381\n"
          ]
        }
      ],
      "source": [
        "# Load MNIST dataset\n",
        "\n",
        "\n",
        "\n",
        "# TODO: Define the loss function and the optimizer\n",
        "criterion = nn.CrossEntropyLoss()  # Loss function for classification\n",
        "optimizer = torch.optim.Adam(mlp_model.parameters())  # Optimizer for\n",
        "\n",
        "# Training loop\n",
        "num_epochs = 5\n",
        "def train(model, optimizer, train_loader, num_epochs=1):\n",
        "    for epoch in range(num_epochs):\n",
        "        model.train()  # Set model to training mode\n",
        "        running_loss = 0.0\n",
        "\n",
        "        for images, labels in train_loader:\n",
        "            # Transfer data to model device (if it is on GPU)\n",
        "            images, labels = images.to(device), labels.to(device)\n",
        "\n",
        "            # TODO: Perform the forward pass, backward pass and parameter updates\n",
        "            # Forward pass\n",
        "            loss = criterion(model(images), labels)\n",
        "\n",
        "            # Backpropagation\n",
        "            optimizer.zero_grad()  # Reset gradients\n",
        "            loss.backward()  # Compute gradients\n",
        "            optimizer.step()  # Update weights\n",
        "\n",
        "            running_loss += loss.item()\n",
        "\n",
        "        print(f\"Epoch {epoch+1}, Loss: {running_loss/len(train_loader):.4f}\")\n",
        "\n",
        "train(mlp_model, optimizer, train_loader, num_epochs)\n"
      ]
    },
    {
      "cell_type": "markdown",
      "metadata": {
        "id": "rBW3FAOJ4EUo"
      },
      "source": [
        "\n",
        "### **3. Evaluation and Error Analysis**  \n",
        "   - Compute **classification accuracy**.  \n",
        "   - Identify misclassified images.  \n",
        "   - **Plot 10 misclassified digits** with true & predicted labels."
      ]
    },
    {
      "cell_type": "code",
      "execution_count": null,
      "metadata": {
        "colab": {
          "base_uri": "https://localhost:8080/"
        },
        "id": "9ipEkP2a4EUo",
        "outputId": "fe644de7-d58b-4ca8-efb6-2e9d08f3b862"
      },
      "outputs": [
        {
          "name": "stdout",
          "output_type": "stream",
          "text": [
            "Test Accuracy: 0.98%\n",
            "\n",
            "Classification Report:\n",
            "\n",
            "              precision    recall  f1-score   support\n",
            "\n",
            "           0      0.982     0.989     0.985       980\n",
            "           1      0.994     0.989     0.992      1135\n",
            "           2      0.981     0.972     0.977      1032\n",
            "           3      0.958     0.982     0.970      1010\n",
            "           4      0.987     0.968     0.977       982\n",
            "           5      0.963     0.979     0.971       892\n",
            "           6      0.983     0.983     0.983       958\n",
            "           7      0.987     0.980     0.983      1028\n",
            "           8      0.976     0.975     0.976       974\n",
            "           9      0.970     0.964     0.967      1009\n",
            "\n",
            "    accuracy                          0.978     10000\n",
            "   macro avg      0.978     0.978     0.978     10000\n",
            "weighted avg      0.978     0.978     0.978     10000\n",
            "\n"
          ]
        }
      ],
      "source": [
        "from sklearn.metrics import classification_report, accuracy_score\n",
        "\n",
        "\n",
        "\n",
        "def evaluate(model, test_loader):\n",
        "    # Set model to evaluation mode\n",
        "    model.eval()\n",
        "\n",
        "    y_true = []\n",
        "    y_pred = []\n",
        "\n",
        "    with torch.no_grad():  # No gradient computation needed for inference\n",
        "        for images, labels in test_loader:\n",
        "            images, labels = images.to(device), labels.to(device)\n",
        "            # TODO: Compute model outputs, and convert them to predicted classes\n",
        "            outputs = mlp_model(images)\n",
        "            _, predicted = torch.max(outputs, 1) # Predicted class, in {0, 1, ..., 9}\n",
        "\n",
        "            # Store true and predicted labels\n",
        "            y_true.extend(labels.cpu().numpy())\n",
        "            y_pred.extend(predicted.cpu().numpy())\n",
        "\n",
        "    # Compute accuracy\n",
        "    print(f\"Test Accuracy: {accuracy_score(y_true, y_pred):.2f}%\")\n",
        "\n",
        "    # Print classification report\n",
        "    print(\"\\nClassification Report:\\n\")\n",
        "    print(classification_report(y_true, y_pred, digits=3))\n",
        "\n",
        "evaluate(mlp_model, test_loader)"
      ]
    },
    {
      "cell_type": "markdown",
      "metadata": {
        "id": "WUNPCDbj4EUo"
      },
      "source": [
        "### **Next Step: Convolutional Neural Networks (CNNs)**\n",
        "Now that we've built an MLP, the next step is improving performance with a **CNN**, which can better capture spatial patterns in images! 🚀\n",
        "\n",
        "#### **What’s Different from MLP?**\n",
        "1. **Convolutional layers** (`Conv2d`) extract spatial features.\n",
        "2. **Pooling** (`MaxPool2d`) reduces spatial dimensions.\n",
        "3. **Fewer parameters** than a fully connected MLP while being more powerful.\n",
        "4. **Better generalization** due to weight sharing in convolutional layers.\n",
        "\n",
        "You can reuse the **training** and **evaluation** code as-is!"
      ]
    },
    {
      "cell_type": "markdown",
      "metadata": {
        "id": "h5IO98h54EUo"
      },
      "source": []
    },
    {
      "cell_type": "code",
      "execution_count": null,
      "metadata": {
        "colab": {
          "base_uri": "https://localhost:8080/"
        },
        "id": "-13-g4T34EUp",
        "outputId": "c420454a-f83b-4a36-c770-0a8a797ab99c"
      },
      "outputs": [
        {
          "name": "stdout",
          "output_type": "stream",
          "text": [
            "CNN(\n",
            "  (conv1): Conv2d(1, 32, kernel_size=(3, 3), stride=(1, 1), padding=(1, 1))\n",
            "  (conv2): Conv2d(32, 12, kernel_size=(3, 3), stride=(1, 1), padding=(1, 1))\n",
            "  (pool): MaxPool2d(kernel_size=3, stride=(1, 1), padding=0, dilation=1, ceil_mode=False)\n",
            "  (fc1): Linear(in_features=6912, out_features=64, bias=True)\n",
            "  (fc2): Linear(in_features=64, out_features=10, bias=True)\n",
            ")\n"
          ]
        }
      ],
      "source": [
        "import torch.nn.functional as F\n",
        "\n",
        "class CNN(nn.Module):\n",
        "    def __init__(self):\n",
        "        super(CNN, self).__init__()\n",
        "\n",
        "        # TODO: Choose the hyperparameters of the convolutional layers\n",
        "        self.conv1 = nn.Conv2d(in_channels=1, out_channels=32, kernel_size=3, padding=(1,1))\n",
        "        self.conv2 = nn.Conv2d(in_channels=32, out_channels=12, kernel_size=3, padding=(1,1))\n",
        "        self.pool = nn.MaxPool2d(kernel_size=3, stride=(1,1))  # 2x2 max pooling\n",
        "\n",
        "        # TODO: Same for the Fully connected layers\n",
        "        self.fc1 = nn.Linear(6912, 64)  # what size is the input to FC1 ?\n",
        "        self.fc2 = nn.Linear(64, 10)  # what size does the output have to be?\n",
        "\n",
        "    def forward(self, x):\n",
        "        x = self.pool(F.relu(self.conv1(x)))  # Conv1 -> ReLU -> MaxPool\n",
        "        x = self.pool(F.relu(self.conv2(x)))  # Conv2 -> ReLU -> MaxPool\n",
        "        x = x.view(x.size(0), -1)  # Flatten\n",
        "        x = F.relu(self.fc1(x))  # Fully connected layer with ReLU\n",
        "        x = self.fc2(x)  # Output logits\n",
        "        return x\n",
        "\n",
        "# Instantiate model\n",
        "cnn_model = CNN().to(device)\n",
        "# Print model architecture\n",
        "print(cnn_model)"
      ]
    },
    {
      "cell_type": "code",
      "execution_count": null,
      "metadata": {
        "colab": {
          "base_uri": "https://localhost:8080/"
        },
        "id": "rE5PqbgQ4EUp",
        "outputId": "6f07195b-c12d-4d99-ef45-9a0d32796397"
      },
      "outputs": [
        {
          "name": "stdout",
          "output_type": "stream",
          "text": [
            "Epoch 1, Loss: 0.1324\n",
            "Epoch 2, Loss: 0.0529\n",
            "Epoch 3, Loss: 0.0384\n",
            "Epoch 4, Loss: 0.0320\n",
            "Epoch 5, Loss: 0.0248\n"
          ]
        }
      ],
      "source": [
        "optimizer = torch.optim.Adam(cnn_model.parameters())\n",
        "\n",
        "# Training loop\n",
        "num_epochs = 5\n",
        "train(cnn_model, optimizer, train_loader, num_epochs )"
      ]
    },
    {
      "cell_type": "code",
      "execution_count": null,
      "metadata": {
        "colab": {
          "base_uri": "https://localhost:8080/"
        },
        "id": "FdEAu2H54EUp",
        "outputId": "abda5b7e-3560-4753-bf8e-c14210818505"
      },
      "outputs": [
        {
          "name": "stdout",
          "output_type": "stream",
          "text": [
            "Test Accuracy: 0.98%\n",
            "\n",
            "Classification Report:\n",
            "\n",
            "              precision    recall  f1-score   support\n",
            "\n",
            "           0      0.982     0.989     0.985       980\n",
            "           1      0.994     0.989     0.992      1135\n",
            "           2      0.981     0.972     0.977      1032\n",
            "           3      0.958     0.982     0.970      1010\n",
            "           4      0.987     0.968     0.977       982\n",
            "           5      0.963     0.979     0.971       892\n",
            "           6      0.983     0.983     0.983       958\n",
            "           7      0.987     0.980     0.983      1028\n",
            "           8      0.976     0.975     0.976       974\n",
            "           9      0.970     0.964     0.967      1009\n",
            "\n",
            "    accuracy                          0.978     10000\n",
            "   macro avg      0.978     0.978     0.978     10000\n",
            "weighted avg      0.978     0.978     0.978     10000\n",
            "\n"
          ]
        }
      ],
      "source": [
        "evaluate(cnn_model, test_loader)"
      ]
    },
    {
      "cell_type": "markdown",
      "metadata": {
        "id": "B7U52hlv4EUp"
      },
      "source": [
        "### **Simple Image Classification Challenge**  \n",
        "\n",
        "Try to get the best performance as possible on **Fashion-MNIST**, a dataset similar to MNIST but with images of clothing items instead of digits.  \n",
        "\n",
        "#### **Challenge: Classify Clothing Items from Fashion-MNIST**  \n",
        "\n",
        "**Dataset:**  \n",
        "- Fashion-MNIST contains **70,000 grayscale images** (60,000 train + 10,000 test).  \n",
        "- Each image is **28×28 pixels**, like MNIST.  \n",
        "- 10 classes:  \n",
        "  1. T-shirt/top  \n",
        "  2. Trouser  \n",
        "  3. Pullover  \n",
        "  4. Dress  \n",
        "  5. Coat  \n",
        "  6. Sandal  \n",
        "  7. Shirt  \n",
        "  8. Sneaker  \n",
        "  9. Bag  \n",
        "  10. Ankle boot  \n",
        "\n",
        "---\n",
        "\n",
        "#### **Tasks for Students**  \n",
        "\n",
        "1. **Load Fashion-MNIST** using `torchvision.datasets.FashionMNIST`.  \n",
        "2. **Baseline**: get a first baseline classification performance, with the previous MLP or CNN\n",
        "3. **Challenge**: Modify the model to improve accuracy.  \n",
        "   - Change the hyper-parameters\n",
        "   - Apply **data augmentation** (e.g., random flips, rotations).  \n",
        "\n",
        "Fashion-MNIST is slightly more challenging than MNIST because the images contain more complex patterns and textures. However, it is still relatively saturated —- MLPs can achieve ~89% accuracy, and CNNs can reach ~93-95%."
      ]
    },
    {
      "cell_type": "code",
      "execution_count": null,
      "metadata": {
        "colab": {
          "base_uri": "https://localhost:8080/",
          "height": 593
        },
        "id": "pQhCBd1A4EUp",
        "outputId": "c2f7102e-ae87-44f6-9ee8-ebf3af4bf0b8"
      },
      "outputs": [
        {
          "name": "stderr",
          "output_type": "stream",
          "text": [
            "100%|██████████| 26.4M/26.4M [00:01<00:00, 18.5MB/s]\n",
            "100%|██████████| 29.5k/29.5k [00:00<00:00, 340kB/s]\n",
            "100%|██████████| 4.42M/4.42M [00:00<00:00, 6.14MB/s]\n",
            "100%|██████████| 5.15k/5.15k [00:00<00:00, 10.7MB/s]\n"
          ]
        },
        {
          "data": {
            "image/png": "[encoded data removed]",
            "text/plain": [
              "<Figure size 600x600 with 9 Axes>"
            ]
          },
          "metadata": {},
          "output_type": "display_data"
        }
      ],
      "source": [
        "import torch\n",
        "import torchvision\n",
        "import torchvision.transforms as transforms\n",
        "import matplotlib.pyplot as plt\n",
        "\n",
        "# Define transformation\n",
        "transform = transforms.Compose([transforms.ToTensor()])\n",
        "\n",
        "# Load dataset\n",
        "train_dataset = torchvision.datasets.FashionMNIST(root=\"./data\", train=True, download=True, transform=transform)\n",
        "test_dataset = torchvision.datasets.FashionMNIST(root=\"./data\", train=False, download=True, transform=transform)\n",
        "\n",
        "# TODO: Define train and test DataLoader\n",
        "train_loader = torch.utils.data.DataLoader(train_dataset, batch_size=32, shuffle=...)\n",
        "test_loader = torch.utils.data.DataLoader(test_dataset, batch_size=16, shuffle=...)\n",
        "\n",
        "# Class labels\n",
        "class_names = [\n",
        "    \"T-shirt/top\", \"Trouser\", \"Pullover\", \"Dress\", \"Coat\",\n",
        "    \"Sandal\", \"Shirt\", \"Sneaker\", \"Bag\", \"Ankle boot\"\n",
        "]\n",
        "\n",
        "# Visualize some sample images\n",
        "def show_images(dataset, num_images=9):\n",
        "    fig, axes = plt.subplots(3, 3, figsize=(6, 6))\n",
        "    for i, ax in enumerate(axes.flat):\n",
        "        image, label = dataset[i]\n",
        "        ax.imshow(image.squeeze(), cmap=\"gray\")\n",
        "        ax.set_title(class_names[label])\n",
        "        ax.axis(\"off\")\n",
        "    plt.show()\n",
        "\n",
        "show_images(train_dataset)\n"
      ]
    },
    {
      "cell_type": "code",
      "execution_count": null,
      "metadata": {
        "colab": {
          "base_uri": "https://localhost:8080/"
        },
        "id": "DsQmMAGl4EUq",
        "outputId": "92c2730e-8d26-457a-8eee-2dd7b13d8b4c"
      },
      "outputs": [
        {
          "name": "stdout",
          "output_type": "stream",
          "text": [
            "CNN(\n",
            "  (conv1): Conv2d(1, 32, kernel_size=(3, 3), stride=(1, 1), padding=(1, 1))\n",
            "  (conv2): Conv2d(32, 12, kernel_size=(3, 3), stride=(1, 1), padding=(1, 1))\n",
            "  (pool): MaxPool2d(kernel_size=3, stride=(1, 1), padding=0, dilation=1, ceil_mode=False)\n",
            "  (fc1): Linear(in_features=6912, out_features=64, bias=True)\n",
            "  (fc2): Linear(in_features=64, out_features=10, bias=True)\n",
            ")\n",
            "Epoch 1, Loss: 0.4919\n",
            "Epoch 2, Loss: 0.2811\n",
            "Epoch 3, Loss: 0.2403\n",
            "Epoch 4, Loss: 0.2152\n",
            "Epoch 5, Loss: 0.1975\n",
            "Epoch 6, Loss: 0.1805\n",
            "Epoch 7, Loss: 0.1670\n",
            "Epoch 8, Loss: 0.1574\n",
            "Epoch 9, Loss: 0.1440\n",
            "Epoch 10, Loss: 0.1350\n",
            "Test Accuracy: 0.05%\n",
            "\n",
            "Classification Report:\n",
            "\n",
            "              precision    recall  f1-score   support\n",
            "\n",
            "           0      0.014     0.016     0.015      1000\n",
            "           1      0.000     0.000     0.000      1000\n",
            "           2      0.000     0.001     0.001      1000\n",
            "           3      0.422     0.132     0.201      1000\n",
            "           4      0.000     0.000     0.000      1000\n",
            "           5      0.052     0.138     0.075      1000\n",
            "           6      0.188     0.041     0.067      1000\n",
            "           7      0.076     0.005     0.009      1000\n",
            "           8      0.081     0.204     0.116      1000\n",
            "           9      0.000     0.000     0.000      1000\n",
            "\n",
            "    accuracy                          0.054     10000\n",
            "   macro avg      0.083     0.054     0.048     10000\n",
            "weighted avg      0.083     0.054     0.048     10000\n",
            "\n"
          ]
        }
      ],
      "source": [
        "# TODO: Instantiate model of your choice\n",
        "model = cnn_model\n",
        "model = model.to(device)\n",
        "# Print model architecture\n",
        "print(model)\n",
        "# TODO: Choose an optimizer\n",
        "optimizer = torch.optim.Adam(model.parameters())\n",
        "\n",
        "# Training loop\n",
        "num_epochs = 10\n",
        "train(model, optimizer,  train_loader, num_epochs,)\n",
        "evaluate(model, test_loader)"
      ]
    },
    {
      "cell_type": "code",
      "execution_count": null,
      "metadata": {
        "colab": {
          "background_save": true,
          "base_uri": "https://localhost:8080/"
        },
        "id": "RD9Pxn9lQmiI",
        "outputId": "e6aa073c-afc3-47a7-a049-9887314f98a9"
      },
      "outputs": [
        {
          "name": "stdout",
          "output_type": "stream",
          "text": [
            "MLP(\n",
            "  (fc1): Linear(in_features=784, out_features=428, bias=True)\n",
            "  (relu1): ReLU()\n",
            "  (fc2): Linear(in_features=428, out_features=240, bias=True)\n",
            "  (relu2): ReLU()\n",
            "  (fc3): Linear(in_features=240, out_features=10, bias=True)\n",
            ")\n",
            "Epoch 1, Loss: 0.5435\n",
            "Epoch 2, Loss: 0.3535\n",
            "Epoch 3, Loss: 0.3156\n",
            "Epoch 4, Loss: 0.2946\n",
            "Epoch 5, Loss: 0.2730\n",
            "Epoch 6, Loss: 0.2589\n",
            "Epoch 7, Loss: 0.2464\n",
            "Epoch 8, Loss: 0.2351\n",
            "Epoch 9, Loss: 0.2245\n",
            "Epoch 10, Loss: 0.2155\n",
            "Epoch 11, Loss: 0.2108\n",
            "Epoch 12, Loss: 0.1994\n",
            "Epoch 13, Loss: 0.1938\n",
            "Epoch 14, Loss: 0.1885\n",
            "Epoch 15, Loss: 0.1833\n",
            "Test Accuracy: 0.89%\n",
            "\n",
            "Classification Report:\n",
            "\n",
            "              precision    recall  f1-score   support\n",
            "\n",
            "           0      0.789     0.899     0.840      1000\n",
            "           1      0.994     0.969     0.981      1000\n",
            "           2      0.780     0.826     0.802      1000\n",
            "           3      0.910     0.887     0.898      1000\n",
            "           4      0.803     0.805     0.804      1000\n",
            "           5      0.985     0.944     0.964      1000\n",
            "           6      0.756     0.643     0.695      1000\n",
            "           7      0.932     0.979     0.955      1000\n",
            "           8      0.981     0.974     0.977      1000\n",
            "           9      0.964     0.962     0.963      1000\n",
            "\n",
            "    accuracy                          0.889     10000\n",
            "   macro avg      0.889     0.889     0.888     10000\n",
            "weighted avg      0.889     0.889     0.888     10000\n",
            "\n"
          ]
        }
      ],
      "source": [
        "# TODO: Instantiate model of your choice\n",
        "model = mlp_model\n",
        "model = model.to(device)\n",
        "# Print model architecture\n",
        "print(model)\n",
        "# TODO: Choose an optimizer\n",
        "optimizer = torch.optim.Adam(model.parameters())\n",
        "\n",
        "# Training loop\n",
        "num_epochs = 15\n",
        "train(model, optimizer,  train_loader, num_epochs,)\n",
        "evaluate(model, test_loader)"
      ]
    }
  ],
  "metadata": {
    "colab": {
      "provenance": []
    },
    "kernelspec": {
      "display_name": "Python 3",
      "name": "python3"
    },
    "language_info": {
      "codemirror_mode": {
        "name": "ipython",
        "version": 3
      },
      "file_extension": ".py",
      "mimetype": "text/x-python",
      "name": "python",
      "nbconvert_exporter": "python",
      "pygments_lexer": "ipython3",
      "version": "3.9.7"
    }
  },
  "nbformat": 4,
  "nbformat_minor": 0
}